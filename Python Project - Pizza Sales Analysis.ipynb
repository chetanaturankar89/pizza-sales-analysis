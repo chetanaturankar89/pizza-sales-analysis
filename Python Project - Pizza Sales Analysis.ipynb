{
 "cells": [
  {
   "cell_type": "markdown",
   "id": "ab8d018c-4552-41f2-b18a-5be648c65216",
   "metadata": {},
   "source": [
    "# Python Project: Pizza Sales Analysis"
   ]
  },
  {
   "cell_type": "markdown",
   "id": "963fc549-27aa-46be-aaa5-2803231272f3",
   "metadata": {},
   "source": [
    "### Objective:\n",
    "<h5>The goal of this project is to analyze a pizza sales database to uncover key business insights that can help improve operations, \n",
    "understand customer preferences, and guide decision-making.</h5>"
   ]
  },
  {
   "cell_type": "markdown",
   "id": "c445ae25-74e5-4ffb-81c8-e254ef0227de",
   "metadata": {},
   "source": [
    "#### Problem Statement:\n",
    "A pizza delivery company wants to optimize its operations and increase profitability by leveraging historical order data. \n",
    "The company has provided datasets containing order details, pizza information, and category classifications. \n",
    "Your task is to perform a thorough Python analysis to answer key business questions, ranging from basic sales metrics to advanced revenue insights."
   ]
  },
  {
   "cell_type": "markdown",
   "id": "ff8a600f-0e18-424c-b141-a3935c743554",
   "metadata": {},
   "source": [
    "##### Import libraries "
   ]
  },
  {
   "cell_type": "code",
   "execution_count": 1,
   "id": "c758d118-0d56-4fae-83c8-62605de07e55",
   "metadata": {},
   "outputs": [],
   "source": [
    "import pandas as pd\n",
    "import matplotlib.dates as mdates\n",
    "import matplotlib.pyplot as plt\n",
    "import seaborn as sns"
   ]
  },
  {
   "cell_type": "markdown",
   "id": "c697e63f-ad45-43a6-ae54-d182397d01af",
   "metadata": {},
   "source": [
    "##### Loading datasets "
   ]
  },
  {
   "cell_type": "code",
   "execution_count": 2,
   "id": "a168661b-bdb8-4275-a63e-ae64e26c140e",
   "metadata": {},
   "outputs": [
    {
     "data": {
      "text/html": [
       "<div>\n",
       "<style scoped>\n",
       "    .dataframe tbody tr th:only-of-type {\n",
       "        vertical-align: middle;\n",
       "    }\n",
       "\n",
       "    .dataframe tbody tr th {\n",
       "        vertical-align: top;\n",
       "    }\n",
       "\n",
       "    .dataframe thead th {\n",
       "        text-align: right;\n",
       "    }\n",
       "</style>\n",
       "<table border=\"1\" class=\"dataframe\">\n",
       "  <thead>\n",
       "    <tr style=\"text-align: right;\">\n",
       "      <th></th>\n",
       "      <th>order_details_id</th>\n",
       "      <th>order_id</th>\n",
       "      <th>pizza_id</th>\n",
       "      <th>quantity</th>\n",
       "    </tr>\n",
       "  </thead>\n",
       "  <tbody>\n",
       "    <tr>\n",
       "      <th>0</th>\n",
       "      <td>1</td>\n",
       "      <td>1</td>\n",
       "      <td>hawaiian_m</td>\n",
       "      <td>1</td>\n",
       "    </tr>\n",
       "    <tr>\n",
       "      <th>1</th>\n",
       "      <td>2</td>\n",
       "      <td>2</td>\n",
       "      <td>classic_dlx_m</td>\n",
       "      <td>1</td>\n",
       "    </tr>\n",
       "    <tr>\n",
       "      <th>2</th>\n",
       "      <td>3</td>\n",
       "      <td>2</td>\n",
       "      <td>five_cheese_l</td>\n",
       "      <td>1</td>\n",
       "    </tr>\n",
       "    <tr>\n",
       "      <th>3</th>\n",
       "      <td>4</td>\n",
       "      <td>2</td>\n",
       "      <td>ital_supr_l</td>\n",
       "      <td>1</td>\n",
       "    </tr>\n",
       "    <tr>\n",
       "      <th>4</th>\n",
       "      <td>5</td>\n",
       "      <td>2</td>\n",
       "      <td>mexicana_m</td>\n",
       "      <td>1</td>\n",
       "    </tr>\n",
       "  </tbody>\n",
       "</table>\n",
       "</div>"
      ],
      "text/plain": [
       "   order_details_id  order_id       pizza_id  quantity\n",
       "0                 1         1     hawaiian_m         1\n",
       "1                 2         2  classic_dlx_m         1\n",
       "2                 3         2  five_cheese_l         1\n",
       "3                 4         2    ital_supr_l         1\n",
       "4                 5         2     mexicana_m         1"
      ]
     },
     "execution_count": 2,
     "metadata": {},
     "output_type": "execute_result"
    }
   ],
   "source": [
    "order_details = pd.read_csv('order_details.csv')\n",
    "order_details.head()"
   ]
  },
  {
   "cell_type": "code",
   "execution_count": 36,
   "id": "d8ebdada-ef89-4f96-9570-fcdb1125d8f5",
   "metadata": {},
   "outputs": [
    {
     "data": {
      "text/plain": [
       "order_details_id    0\n",
       "order_id            0\n",
       "pizza_id            0\n",
       "quantity            0\n",
       "dtype: int64"
      ]
     },
     "execution_count": 36,
     "metadata": {},
     "output_type": "execute_result"
    }
   ],
   "source": [
    "order_details.isnull().sum()"
   ]
  },
  {
   "cell_type": "code",
   "execution_count": 3,
   "id": "b4602769-3ea7-4592-bf77-8db8aea832ac",
   "metadata": {},
   "outputs": [
    {
     "data": {
      "text/html": [
       "<div>\n",
       "<style scoped>\n",
       "    .dataframe tbody tr th:only-of-type {\n",
       "        vertical-align: middle;\n",
       "    }\n",
       "\n",
       "    .dataframe tbody tr th {\n",
       "        vertical-align: top;\n",
       "    }\n",
       "\n",
       "    .dataframe thead th {\n",
       "        text-align: right;\n",
       "    }\n",
       "</style>\n",
       "<table border=\"1\" class=\"dataframe\">\n",
       "  <thead>\n",
       "    <tr style=\"text-align: right;\">\n",
       "      <th></th>\n",
       "      <th>order_id</th>\n",
       "      <th>date</th>\n",
       "      <th>time</th>\n",
       "    </tr>\n",
       "  </thead>\n",
       "  <tbody>\n",
       "    <tr>\n",
       "      <th>0</th>\n",
       "      <td>1</td>\n",
       "      <td>2015-01-01</td>\n",
       "      <td>11:38:36</td>\n",
       "    </tr>\n",
       "    <tr>\n",
       "      <th>1</th>\n",
       "      <td>2</td>\n",
       "      <td>2015-01-01</td>\n",
       "      <td>11:57:40</td>\n",
       "    </tr>\n",
       "    <tr>\n",
       "      <th>2</th>\n",
       "      <td>3</td>\n",
       "      <td>2015-01-01</td>\n",
       "      <td>12:12:28</td>\n",
       "    </tr>\n",
       "    <tr>\n",
       "      <th>3</th>\n",
       "      <td>4</td>\n",
       "      <td>2015-01-01</td>\n",
       "      <td>12:16:31</td>\n",
       "    </tr>\n",
       "    <tr>\n",
       "      <th>4</th>\n",
       "      <td>5</td>\n",
       "      <td>2015-01-01</td>\n",
       "      <td>12:21:30</td>\n",
       "    </tr>\n",
       "  </tbody>\n",
       "</table>\n",
       "</div>"
      ],
      "text/plain": [
       "   order_id        date      time\n",
       "0         1  2015-01-01  11:38:36\n",
       "1         2  2015-01-01  11:57:40\n",
       "2         3  2015-01-01  12:12:28\n",
       "3         4  2015-01-01  12:16:31\n",
       "4         5  2015-01-01  12:21:30"
      ]
     },
     "execution_count": 3,
     "metadata": {},
     "output_type": "execute_result"
    }
   ],
   "source": [
    "orders = pd.read_csv('orders.csv')\n",
    "orders.head()"
   ]
  },
  {
   "cell_type": "code",
   "execution_count": 37,
   "id": "4801ad7d-f169-4e31-bee9-a700db423b62",
   "metadata": {},
   "outputs": [
    {
     "data": {
      "text/plain": [
       "order_id    0\n",
       "date        0\n",
       "time        0\n",
       "hour        0\n",
       "dtype: int64"
      ]
     },
     "execution_count": 37,
     "metadata": {},
     "output_type": "execute_result"
    }
   ],
   "source": [
    "orders.isnull().sum()"
   ]
  },
  {
   "cell_type": "code",
   "execution_count": 4,
   "id": "3602479c-5640-4a0f-b858-4f40f18234ec",
   "metadata": {},
   "outputs": [
    {
     "data": {
      "text/html": [
       "<div>\n",
       "<style scoped>\n",
       "    .dataframe tbody tr th:only-of-type {\n",
       "        vertical-align: middle;\n",
       "    }\n",
       "\n",
       "    .dataframe tbody tr th {\n",
       "        vertical-align: top;\n",
       "    }\n",
       "\n",
       "    .dataframe thead th {\n",
       "        text-align: right;\n",
       "    }\n",
       "</style>\n",
       "<table border=\"1\" class=\"dataframe\">\n",
       "  <thead>\n",
       "    <tr style=\"text-align: right;\">\n",
       "      <th></th>\n",
       "      <th>pizza_type_id</th>\n",
       "      <th>name</th>\n",
       "      <th>category</th>\n",
       "      <th>ingredients</th>\n",
       "    </tr>\n",
       "  </thead>\n",
       "  <tbody>\n",
       "    <tr>\n",
       "      <th>0</th>\n",
       "      <td>bbq_ckn</td>\n",
       "      <td>The Barbecue Chicken Pizza</td>\n",
       "      <td>Chicken</td>\n",
       "      <td>Barbecued Chicken, Red Peppers, Green Peppers,...</td>\n",
       "    </tr>\n",
       "    <tr>\n",
       "      <th>1</th>\n",
       "      <td>cali_ckn</td>\n",
       "      <td>The California Chicken Pizza</td>\n",
       "      <td>Chicken</td>\n",
       "      <td>Chicken, Artichoke, Spinach, Garlic, Jalapeno ...</td>\n",
       "    </tr>\n",
       "    <tr>\n",
       "      <th>2</th>\n",
       "      <td>ckn_alfredo</td>\n",
       "      <td>The Chicken Alfredo Pizza</td>\n",
       "      <td>Chicken</td>\n",
       "      <td>Chicken, Red Onions, Red Peppers, Mushrooms, A...</td>\n",
       "    </tr>\n",
       "    <tr>\n",
       "      <th>3</th>\n",
       "      <td>ckn_pesto</td>\n",
       "      <td>The Chicken Pesto Pizza</td>\n",
       "      <td>Chicken</td>\n",
       "      <td>Chicken, Tomatoes, Red Peppers, Spinach, Garli...</td>\n",
       "    </tr>\n",
       "    <tr>\n",
       "      <th>4</th>\n",
       "      <td>southw_ckn</td>\n",
       "      <td>The Southwest Chicken Pizza</td>\n",
       "      <td>Chicken</td>\n",
       "      <td>Chicken, Tomatoes, Red Peppers, Red Onions, Ja...</td>\n",
       "    </tr>\n",
       "  </tbody>\n",
       "</table>\n",
       "</div>"
      ],
      "text/plain": [
       "  pizza_type_id                          name category  \\\n",
       "0       bbq_ckn    The Barbecue Chicken Pizza  Chicken   \n",
       "1      cali_ckn  The California Chicken Pizza  Chicken   \n",
       "2   ckn_alfredo     The Chicken Alfredo Pizza  Chicken   \n",
       "3     ckn_pesto       The Chicken Pesto Pizza  Chicken   \n",
       "4    southw_ckn   The Southwest Chicken Pizza  Chicken   \n",
       "\n",
       "                                         ingredients  \n",
       "0  Barbecued Chicken, Red Peppers, Green Peppers,...  \n",
       "1  Chicken, Artichoke, Spinach, Garlic, Jalapeno ...  \n",
       "2  Chicken, Red Onions, Red Peppers, Mushrooms, A...  \n",
       "3  Chicken, Tomatoes, Red Peppers, Spinach, Garli...  \n",
       "4  Chicken, Tomatoes, Red Peppers, Red Onions, Ja...  "
      ]
     },
     "execution_count": 4,
     "metadata": {},
     "output_type": "execute_result"
    }
   ],
   "source": [
    "pizza_types = pd.read_csv('pizza_types.csv', encoding='cp1252')\n",
    "pizza_types.head()"
   ]
  },
  {
   "cell_type": "code",
   "execution_count": 39,
   "id": "5219a1f6-6046-4b5b-8102-2ee29ccbf21c",
   "metadata": {},
   "outputs": [
    {
     "data": {
      "text/plain": [
       "pizza_type_id    0\n",
       "name             0\n",
       "category         0\n",
       "ingredients      0\n",
       "dtype: int64"
      ]
     },
     "execution_count": 39,
     "metadata": {},
     "output_type": "execute_result"
    }
   ],
   "source": [
    "pizza_types.isnull().sum()"
   ]
  },
  {
   "cell_type": "code",
   "execution_count": 40,
   "id": "5b9ea2fb-f42c-4f82-9356-0a21d6f9f926",
   "metadata": {},
   "outputs": [
    {
     "data": {
      "text/html": [
       "<div>\n",
       "<style scoped>\n",
       "    .dataframe tbody tr th:only-of-type {\n",
       "        vertical-align: middle;\n",
       "    }\n",
       "\n",
       "    .dataframe tbody tr th {\n",
       "        vertical-align: top;\n",
       "    }\n",
       "\n",
       "    .dataframe thead th {\n",
       "        text-align: right;\n",
       "    }\n",
       "</style>\n",
       "<table border=\"1\" class=\"dataframe\">\n",
       "  <thead>\n",
       "    <tr style=\"text-align: right;\">\n",
       "      <th></th>\n",
       "      <th>pizza_id</th>\n",
       "      <th>pizza_type_id</th>\n",
       "      <th>size</th>\n",
       "      <th>price</th>\n",
       "    </tr>\n",
       "  </thead>\n",
       "  <tbody>\n",
       "    <tr>\n",
       "      <th>0</th>\n",
       "      <td>bbq_ckn_s</td>\n",
       "      <td>bbq_ckn</td>\n",
       "      <td>S</td>\n",
       "      <td>12.75</td>\n",
       "    </tr>\n",
       "    <tr>\n",
       "      <th>1</th>\n",
       "      <td>bbq_ckn_m</td>\n",
       "      <td>bbq_ckn</td>\n",
       "      <td>M</td>\n",
       "      <td>16.75</td>\n",
       "    </tr>\n",
       "    <tr>\n",
       "      <th>2</th>\n",
       "      <td>bbq_ckn_l</td>\n",
       "      <td>bbq_ckn</td>\n",
       "      <td>L</td>\n",
       "      <td>20.75</td>\n",
       "    </tr>\n",
       "    <tr>\n",
       "      <th>3</th>\n",
       "      <td>cali_ckn_s</td>\n",
       "      <td>cali_ckn</td>\n",
       "      <td>S</td>\n",
       "      <td>12.75</td>\n",
       "    </tr>\n",
       "    <tr>\n",
       "      <th>4</th>\n",
       "      <td>cali_ckn_m</td>\n",
       "      <td>cali_ckn</td>\n",
       "      <td>M</td>\n",
       "      <td>16.75</td>\n",
       "    </tr>\n",
       "  </tbody>\n",
       "</table>\n",
       "</div>"
      ],
      "text/plain": [
       "     pizza_id pizza_type_id size  price\n",
       "0   bbq_ckn_s       bbq_ckn    S  12.75\n",
       "1   bbq_ckn_m       bbq_ckn    M  16.75\n",
       "2   bbq_ckn_l       bbq_ckn    L  20.75\n",
       "3  cali_ckn_s      cali_ckn    S  12.75\n",
       "4  cali_ckn_m      cali_ckn    M  16.75"
      ]
     },
     "execution_count": 40,
     "metadata": {},
     "output_type": "execute_result"
    }
   ],
   "source": [
    "pizzas = pd.read_csv('pizzas.csv')\n",
    "pizzas.head()"
   ]
  },
  {
   "cell_type": "code",
   "execution_count": 41,
   "id": "fd48692d-6c6a-482f-9359-9705d0b9b17e",
   "metadata": {},
   "outputs": [
    {
     "data": {
      "text/plain": [
       "pizza_id         0\n",
       "pizza_type_id    0\n",
       "size             0\n",
       "price            0\n",
       "dtype: int64"
      ]
     },
     "execution_count": 41,
     "metadata": {},
     "output_type": "execute_result"
    }
   ],
   "source": [
    "pizzas.isnull().sum()"
   ]
  },
  {
   "cell_type": "markdown",
   "id": "3cdb4b8e-f040-4026-bab7-a48f24de8fd9",
   "metadata": {},
   "source": [
    "All above datasets are cleaned "
   ]
  },
  {
   "cell_type": "markdown",
   "id": "8a8fbe4e-3550-42f3-891f-40a2de58b50f",
   "metadata": {},
   "source": [
    "## BASIC QUESTIONS "
   ]
  },
  {
   "cell_type": "markdown",
   "id": "fdb82540-9fb4-4595-ba6d-cbfd9bfe89a7",
   "metadata": {},
   "source": [
    "#### Q1. Retrieve the total number of orders placed."
   ]
  },
  {
   "cell_type": "code",
   "execution_count": 6,
   "id": "1bbcfdc0-d55c-4b73-b08a-2b8385cea47b",
   "metadata": {},
   "outputs": [
    {
     "name": "stdout",
     "output_type": "stream",
     "text": [
      "Total Number of orders placed :  21350\n"
     ]
    }
   ],
   "source": [
    "total_orders = orders['order_id'].nunique()\n",
    "print('Total Number of orders placed : ', total_orders)"
   ]
  },
  {
   "cell_type": "markdown",
   "id": "22cbf8c5-faf4-4557-9c30-094b4f1dfb41",
   "metadata": {},
   "source": [
    "#### Q2. Calculate the total revenue generated from pizza sales."
   ]
  },
  {
   "cell_type": "code",
   "execution_count": 7,
   "id": "e0f7ea13-2d64-4565-9561-0bc4a3091cf3",
   "metadata": {},
   "outputs": [
    {
     "name": "stdout",
     "output_type": "stream",
     "text": [
      "Total Revenue from Pizza Sales: 817860.05\n"
     ]
    }
   ],
   "source": [
    "# Revenue = Price x Quantity.\n",
    "\n",
    "# Step 1: Merge the two DataFrames on 'pizza_id'\n",
    "merged_df = order_details.merge(pizzas, on='pizza_id')\n",
    "\n",
    "# Step 2: Calculate revenue per row\n",
    "merged_df['revenue'] = merged_df['quantity'] * merged_df['price']\n",
    "\n",
    "# Step 3: Calculate total revenue\n",
    "total_revenue = merged_df['revenue'].sum()\n",
    "\n",
    "print(\"Total Revenue from Pizza Sales:\", round(total_revenue, 2))"
   ]
  },
  {
   "cell_type": "markdown",
   "id": "0cc9fcdc-83c4-4c93-89da-45130c44998d",
   "metadata": {},
   "source": [
    "#### Q3. Identify the highest-priced pizza."
   ]
  },
  {
   "cell_type": "code",
   "execution_count": 43,
   "id": "4b52eafd-f5f9-4082-af13-812caafd4ba1",
   "metadata": {},
   "outputs": [
    {
     "name": "stdout",
     "output_type": "stream",
     "text": [
      "Highest Priced Pizza:\n",
      "               name  price\n",
      "43  The Greek Pizza  35.95\n"
     ]
    },
    {
     "name": "stderr",
     "output_type": "stream",
     "text": [
      "<>:2: SyntaxWarning: invalid escape sequence '\\$'\n",
      "<>:2: SyntaxWarning: invalid escape sequence '\\$'\n",
      "C:\\Users\\hp\\AppData\\Local\\Temp\\ipykernel_7700\\1564467046.py:2: SyntaxWarning: invalid escape sequence '\\$'\n",
      "  pizzas['price'] = pizzas['price'].replace('[\\$,]').astype(float)\n",
      "C:\\Users\\hp\\AppData\\Local\\Temp\\ipykernel_7700\\1564467046.py:2: FutureWarning: Series.replace without 'value' and with non-dict-like 'to_replace' is deprecated and will raise in a future version. Explicitly specify the new values instead.\n",
      "  pizzas['price'] = pizzas['price'].replace('[\\$,]').astype(float)\n"
     ]
    }
   ],
   "source": [
    "# step 1 : Clean price col\n",
    "pizzas['price'] = pizzas['price'].replace('[\\$,]').astype(float)\n",
    "\n",
    "# step 2 : merge pizzas and pizza_types based on pizza_type_id col\n",
    "merged_high_price_pizza = pizzas.merge(pizza_types, on = 'pizza_type_id' )\n",
    "\n",
    "# step 3 : sort by price desc as we required max price\n",
    "high_price_pizza = merged_high_price_pizza.sort_values( by = 'price' , ascending = False).head(1)\n",
    "\n",
    "# print name of pizza with price\n",
    "print(\"Highest Priced Pizza:\")\n",
    "print(high_price_pizza[['name', 'price']])"
   ]
  },
  {
   "cell_type": "markdown",
   "id": "fb2b00f6-ea61-43dd-b853-1c057b9c7274",
   "metadata": {},
   "source": [
    "#### Q4. Identify the most common pizza size ordered."
   ]
  },
  {
   "cell_type": "code",
   "execution_count": 9,
   "id": "5c6035e8-7538-4de6-b129-92f97e6e55ed",
   "metadata": {},
   "outputs": [
    {
     "name": "stdout",
     "output_type": "stream",
     "text": [
      "The Most ordered pizza size is : \n",
      "   size  order_count\n",
      "0    L        18526\n"
     ]
    }
   ],
   "source": [
    "# step 1 : merge two df pizzas and order details \n",
    "merged_most_ordered_size = pizzas.merge(order_details,on = 'pizza_id')\n",
    "\n",
    "# step 2 : sort by price desc as we required max price\n",
    "most_ordered_size = (merged_most_ordered_size.groupby('size').agg(order_count=('order_details_id', 'count')).reset_index().\n",
    "                     sort_values(by = 'order_count', ascending = False).head(1))\n",
    "\n",
    "# Print final result\n",
    "print('The Most ordered pizza size is : \\n', most_ordered_size)"
   ]
  },
  {
   "cell_type": "code",
   "execution_count": 10,
   "id": "805b700a-8c37-40f3-b51b-0b60c80b15fb",
   "metadata": {},
   "outputs": [
    {
     "data": {
      "text/html": [
       "<div>\n",
       "<style scoped>\n",
       "    .dataframe tbody tr th:only-of-type {\n",
       "        vertical-align: middle;\n",
       "    }\n",
       "\n",
       "    .dataframe tbody tr th {\n",
       "        vertical-align: top;\n",
       "    }\n",
       "\n",
       "    .dataframe thead th {\n",
       "        text-align: right;\n",
       "    }\n",
       "</style>\n",
       "<table border=\"1\" class=\"dataframe\">\n",
       "  <thead>\n",
       "    <tr style=\"text-align: right;\">\n",
       "      <th></th>\n",
       "      <th>size</th>\n",
       "      <th>order_count</th>\n",
       "    </tr>\n",
       "  </thead>\n",
       "  <tbody>\n",
       "    <tr>\n",
       "      <th>0</th>\n",
       "      <td>L</td>\n",
       "      <td>18526</td>\n",
       "    </tr>\n",
       "  </tbody>\n",
       "</table>\n",
       "</div>"
      ],
      "text/plain": [
       "  size  order_count\n",
       "0    L        18526"
      ]
     },
     "execution_count": 10,
     "metadata": {},
     "output_type": "execute_result"
    }
   ],
   "source": [
    "most_ordered_size"
   ]
  },
  {
   "cell_type": "markdown",
   "id": "19dd618c-4c9c-4f2b-aba2-cfdcd6457764",
   "metadata": {},
   "source": [
    "#### Q5. List the top 5 most ordered pizza types along with their quantities."
   ]
  },
  {
   "cell_type": "code",
   "execution_count": 11,
   "id": "977a6f9c-4ada-4cee-82cb-7a22b4021c77",
   "metadata": {},
   "outputs": [
    {
     "name": "stdout",
     "output_type": "stream",
     "text": [
      "The top 5 most ordered pizza types along with their quantities : \n",
      "                           name  sum_of_pizza_quantity\n",
      "7     The Classic Deluxe Pizza                   2453\n",
      "0   The Barbecue Chicken Pizza                   2432\n",
      "12          The Hawaiian Pizza                   2422\n",
      "20         The Pepperoni Pizza                   2418\n",
      "30      The Thai Chicken Pizza                   2371\n"
     ]
    }
   ],
   "source": [
    "# Step 1: Merge all three DataFrames\n",
    "merged_df = pizza_types.merge(pizzas, on='pizza_type_id').merge(order_details, on='pizza_id')\n",
    "\n",
    "# Step 2: Group by pizza name and sum the quantity\n",
    "top_5_pizzas = (\n",
    "    merged_df.groupby('name')\n",
    "    .agg(sum_of_pizza_quantity=('quantity', 'sum'))\n",
    "    .reset_index()\n",
    "    .sort_values(by='sum_of_pizza_quantity', ascending=False)\n",
    "    .head(5)\n",
    ")\n",
    "\n",
    "# Step 3: Display result\n",
    "print('The top 5 most ordered pizza types along with their quantities : \\n', top_5_pizzas)\n"
   ]
  },
  {
   "cell_type": "markdown",
   "id": "64f1614c-a530-4721-a610-23f5e204abb2",
   "metadata": {},
   "source": [
    "## Intermediate Questions"
   ]
  },
  {
   "cell_type": "markdown",
   "id": "51dcbae9-f7ee-4b38-bcbb-e9a57d6c9167",
   "metadata": {},
   "source": [
    "#### Q1. Join the necessary tables to find the total quantity of each pizza category ordered."
   ]
  },
  {
   "cell_type": "code",
   "execution_count": 12,
   "id": "cb509653-cfc5-4645-aa2a-020bb08fcf50",
   "metadata": {},
   "outputs": [
    {
     "name": "stdout",
     "output_type": "stream",
     "text": [
      "The total quantity of each pizza category ordered : \n",
      "   category  total_quantity\n",
      "1  Classic           14888\n",
      "2  Supreme           11987\n",
      "3   Veggie           11649\n",
      "0  Chicken           11050\n"
     ]
    }
   ],
   "source": [
    "# Step 1: Merge all three DataFrames\n",
    "merged_df_category = pizza_types.merge(pizzas, on='pizza_type_id').merge(order_details, on='pizza_id')\n",
    "\n",
    "# Step 2: Group by pizza name and sum the quantity\n",
    "pizza_category_ordered = (\n",
    "    merged_df.groupby('category')\n",
    "    .agg(total_quantity=('quantity', 'sum'))\n",
    "    .reset_index()\n",
    "    .sort_values(by='total_quantity', ascending=False)\n",
    ")\n",
    "\n",
    "# Step 3: Display result\n",
    "print('The total quantity of each pizza category ordered : \\n', pizza_category_ordered)\n"
   ]
  },
  {
   "cell_type": "markdown",
   "id": "6e526429-e4a5-4ba1-993c-9c12418da85b",
   "metadata": {},
   "source": [
    "#### Q2. Determine the distribution of orders by hour of the day."
   ]
  },
  {
   "cell_type": "code",
   "execution_count": 13,
   "id": "6015b277-617f-465b-88d5-91a336c2e011",
   "metadata": {},
   "outputs": [],
   "source": [
    "# Find out hours \n",
    "orders['hour'] = pd.to_datetime(orders['time'], format = '%H:%M:%S')\n",
    "orders['hour'] = orders['hour'].dt.hour"
   ]
  },
  {
   "cell_type": "code",
   "execution_count": 14,
   "id": "fb7e2139-c2a6-4fa9-996f-8994348219be",
   "metadata": {},
   "outputs": [
    {
     "data": {
      "text/plain": [
       "0    11\n",
       "1    11\n",
       "2    12\n",
       "3    12\n",
       "4    12\n",
       "Name: hour, dtype: int32"
      ]
     },
     "execution_count": 14,
     "metadata": {},
     "output_type": "execute_result"
    }
   ],
   "source": [
    "orders['hour'].head()"
   ]
  },
  {
   "cell_type": "code",
   "execution_count": 15,
   "id": "ff7062ae-145b-40b7-a7c4-c16fba64857e",
   "metadata": {},
   "outputs": [],
   "source": [
    "orders_by_hour_of_the_day = orders.groupby('hour')['order_id'].count().reset_index(name='OrderCount')"
   ]
  },
  {
   "cell_type": "code",
   "execution_count": 16,
   "id": "571e5761-423e-4a9b-9496-e18300525f9e",
   "metadata": {},
   "outputs": [
    {
     "data": {
      "text/html": [
       "<div>\n",
       "<style scoped>\n",
       "    .dataframe tbody tr th:only-of-type {\n",
       "        vertical-align: middle;\n",
       "    }\n",
       "\n",
       "    .dataframe tbody tr th {\n",
       "        vertical-align: top;\n",
       "    }\n",
       "\n",
       "    .dataframe thead th {\n",
       "        text-align: right;\n",
       "    }\n",
       "</style>\n",
       "<table border=\"1\" class=\"dataframe\">\n",
       "  <thead>\n",
       "    <tr style=\"text-align: right;\">\n",
       "      <th></th>\n",
       "      <th>hour</th>\n",
       "      <th>OrderCount</th>\n",
       "    </tr>\n",
       "  </thead>\n",
       "  <tbody>\n",
       "    <tr>\n",
       "      <th>0</th>\n",
       "      <td>9</td>\n",
       "      <td>1</td>\n",
       "    </tr>\n",
       "    <tr>\n",
       "      <th>1</th>\n",
       "      <td>10</td>\n",
       "      <td>8</td>\n",
       "    </tr>\n",
       "    <tr>\n",
       "      <th>2</th>\n",
       "      <td>11</td>\n",
       "      <td>1231</td>\n",
       "    </tr>\n",
       "    <tr>\n",
       "      <th>3</th>\n",
       "      <td>12</td>\n",
       "      <td>2520</td>\n",
       "    </tr>\n",
       "    <tr>\n",
       "      <th>4</th>\n",
       "      <td>13</td>\n",
       "      <td>2455</td>\n",
       "    </tr>\n",
       "    <tr>\n",
       "      <th>5</th>\n",
       "      <td>14</td>\n",
       "      <td>1472</td>\n",
       "    </tr>\n",
       "    <tr>\n",
       "      <th>6</th>\n",
       "      <td>15</td>\n",
       "      <td>1468</td>\n",
       "    </tr>\n",
       "    <tr>\n",
       "      <th>7</th>\n",
       "      <td>16</td>\n",
       "      <td>1920</td>\n",
       "    </tr>\n",
       "    <tr>\n",
       "      <th>8</th>\n",
       "      <td>17</td>\n",
       "      <td>2336</td>\n",
       "    </tr>\n",
       "    <tr>\n",
       "      <th>9</th>\n",
       "      <td>18</td>\n",
       "      <td>2399</td>\n",
       "    </tr>\n",
       "    <tr>\n",
       "      <th>10</th>\n",
       "      <td>19</td>\n",
       "      <td>2009</td>\n",
       "    </tr>\n",
       "    <tr>\n",
       "      <th>11</th>\n",
       "      <td>20</td>\n",
       "      <td>1642</td>\n",
       "    </tr>\n",
       "    <tr>\n",
       "      <th>12</th>\n",
       "      <td>21</td>\n",
       "      <td>1198</td>\n",
       "    </tr>\n",
       "    <tr>\n",
       "      <th>13</th>\n",
       "      <td>22</td>\n",
       "      <td>663</td>\n",
       "    </tr>\n",
       "    <tr>\n",
       "      <th>14</th>\n",
       "      <td>23</td>\n",
       "      <td>28</td>\n",
       "    </tr>\n",
       "  </tbody>\n",
       "</table>\n",
       "</div>"
      ],
      "text/plain": [
       "    hour  OrderCount\n",
       "0      9           1\n",
       "1     10           8\n",
       "2     11        1231\n",
       "3     12        2520\n",
       "4     13        2455\n",
       "5     14        1472\n",
       "6     15        1468\n",
       "7     16        1920\n",
       "8     17        2336\n",
       "9     18        2399\n",
       "10    19        2009\n",
       "11    20        1642\n",
       "12    21        1198\n",
       "13    22         663\n",
       "14    23          28"
      ]
     },
     "execution_count": 16,
     "metadata": {},
     "output_type": "execute_result"
    }
   ],
   "source": [
    "orders_by_hour_of_the_day.sort_values('hour', ascending = True)"
   ]
  },
  {
   "cell_type": "code",
   "execution_count": 44,
   "id": "4029e5c3-827b-4c32-b4bd-2ae62bbced8f",
   "metadata": {},
   "outputs": [
    {
     "data": {
      "text/html": [
       "<div>\n",
       "<style scoped>\n",
       "    .dataframe tbody tr th:only-of-type {\n",
       "        vertical-align: middle;\n",
       "    }\n",
       "\n",
       "    .dataframe tbody tr th {\n",
       "        vertical-align: top;\n",
       "    }\n",
       "\n",
       "    .dataframe thead th {\n",
       "        text-align: right;\n",
       "    }\n",
       "</style>\n",
       "<table border=\"1\" class=\"dataframe\">\n",
       "  <thead>\n",
       "    <tr style=\"text-align: right;\">\n",
       "      <th></th>\n",
       "      <th>hour</th>\n",
       "      <th>OrderCount</th>\n",
       "    </tr>\n",
       "  </thead>\n",
       "  <tbody>\n",
       "    <tr>\n",
       "      <th>0</th>\n",
       "      <td>9</td>\n",
       "      <td>1</td>\n",
       "    </tr>\n",
       "    <tr>\n",
       "      <th>1</th>\n",
       "      <td>10</td>\n",
       "      <td>8</td>\n",
       "    </tr>\n",
       "    <tr>\n",
       "      <th>2</th>\n",
       "      <td>11</td>\n",
       "      <td>1231</td>\n",
       "    </tr>\n",
       "    <tr>\n",
       "      <th>3</th>\n",
       "      <td>12</td>\n",
       "      <td>2520</td>\n",
       "    </tr>\n",
       "    <tr>\n",
       "      <th>4</th>\n",
       "      <td>13</td>\n",
       "      <td>2455</td>\n",
       "    </tr>\n",
       "  </tbody>\n",
       "</table>\n",
       "</div>"
      ],
      "text/plain": [
       "   hour  OrderCount\n",
       "0     9           1\n",
       "1    10           8\n",
       "2    11        1231\n",
       "3    12        2520\n",
       "4    13        2455"
      ]
     },
     "execution_count": 44,
     "metadata": {},
     "output_type": "execute_result"
    }
   ],
   "source": [
    "# Print first 5 records \n",
    "orders_by_hour_of_the_day.sort_values('hour', ascending = True).head()"
   ]
  },
  {
   "cell_type": "markdown",
   "id": "391dc1ca-30b9-4930-869d-1f142613228a",
   "metadata": {},
   "source": [
    "#### Q3. Find the category-wise distribution of pizzas."
   ]
  },
  {
   "cell_type": "code",
   "execution_count": 17,
   "id": "53fb3133-b79b-43c5-b1d3-f12996d5fe9e",
   "metadata": {},
   "outputs": [
    {
     "data": {
      "text/html": [
       "<div>\n",
       "<style scoped>\n",
       "    .dataframe tbody tr th:only-of-type {\n",
       "        vertical-align: middle;\n",
       "    }\n",
       "\n",
       "    .dataframe tbody tr th {\n",
       "        vertical-align: top;\n",
       "    }\n",
       "\n",
       "    .dataframe thead th {\n",
       "        text-align: right;\n",
       "    }\n",
       "</style>\n",
       "<table border=\"1\" class=\"dataframe\">\n",
       "  <thead>\n",
       "    <tr style=\"text-align: right;\">\n",
       "      <th></th>\n",
       "      <th>category</th>\n",
       "      <th>name</th>\n",
       "    </tr>\n",
       "  </thead>\n",
       "  <tbody>\n",
       "    <tr>\n",
       "      <th>0</th>\n",
       "      <td>Chicken</td>\n",
       "      <td>6</td>\n",
       "    </tr>\n",
       "    <tr>\n",
       "      <th>1</th>\n",
       "      <td>Classic</td>\n",
       "      <td>8</td>\n",
       "    </tr>\n",
       "    <tr>\n",
       "      <th>2</th>\n",
       "      <td>Supreme</td>\n",
       "      <td>9</td>\n",
       "    </tr>\n",
       "    <tr>\n",
       "      <th>3</th>\n",
       "      <td>Veggie</td>\n",
       "      <td>9</td>\n",
       "    </tr>\n",
       "  </tbody>\n",
       "</table>\n",
       "</div>"
      ],
      "text/plain": [
       "  category  name\n",
       "0  Chicken     6\n",
       "1  Classic     8\n",
       "2  Supreme     9\n",
       "3   Veggie     9"
      ]
     },
     "execution_count": 17,
     "metadata": {},
     "output_type": "execute_result"
    }
   ],
   "source": [
    "# Finding out pizzas by their category\n",
    "pizza_types_category_wise_distribution = pizza_types.groupby('category')['name'].count().reset_index()\n",
    "pizza_types_category_wise_distribution"
   ]
  },
  {
   "cell_type": "markdown",
   "id": "bb32d8f0-e561-4027-8df7-5abd5c56787c",
   "metadata": {},
   "source": [
    "#### Q4.Group the orders by date and calculate the average number of pizzas ordered per day."
   ]
  },
  {
   "cell_type": "code",
   "execution_count": 18,
   "id": "fe118e33-594a-48b0-b3e4-1acb9e8168de",
   "metadata": {},
   "outputs": [
    {
     "name": "stdout",
     "output_type": "stream",
     "text": [
      "Average pizzas sold per day: 138.0\n"
     ]
    },
    {
     "data": {
      "image/png": "[encoded data removed]",
      "text/plain": [
       "<Figure size 1400x600 with 1 Axes>"
      ]
     },
     "metadata": {},
     "output_type": "display_data"
    }
   ],
   "source": [
    "# Merge orders and order_details on order_id\n",
    "merged_df = pd.merge(orders, order_details, on='order_id')\n",
    "\n",
    "# Group by date and sum quantity\n",
    "daily_quantity = merged_df.groupby('date')['quantity'].sum().reset_index()\n",
    "\n",
    "# Ensure 'date' is datetime\n",
    "daily_quantity['date'] = pd.to_datetime(daily_quantity['date'])\n",
    "\n",
    "# Calculate the average quantity and round it\n",
    "avg_pizza = round(daily_quantity['quantity'].mean(), 0)\n",
    "print(\"Average pizzas sold per day:\", avg_pizza)\n",
    "\n",
    "# Plotting the graph\n",
    "plt.figure(figsize=(14, 6))\n",
    "sns.lineplot(data=daily_quantity, x='date', y='quantity', marker='o', label='Daily Quantity')\n",
    "plt.axhline(avg_pizza, color='red', linestyle='--', label=f'Average = {avg_pizza}')\n",
    "\n",
    "# Format x-axis for better readability\n",
    "plt.gca().xaxis.set_major_locator(mdates.AutoDateLocator())\n",
    "plt.gca().xaxis.set_major_formatter(mdates.DateFormatter('%b %d'))\n",
    "plt.xticks(rotation=45)\n",
    "\n",
    "# Add titles and labels\n",
    "plt.title('Daily Pizza Sales with Average Line')\n",
    "plt.xlabel('Date')\n",
    "plt.ylabel('Total Quantity Sold')\n",
    "plt.legend()\n",
    "plt.tight_layout()\n",
    "plt.show()"
   ]
  },
  {
   "cell_type": "markdown",
   "id": "e4992a5a-233d-47bc-a276-4c8519109c4e",
   "metadata": {},
   "source": [
    "####  Q5. Determine the top 3 most ordered pizza types based on revenue."
   ]
  },
  {
   "cell_type": "code",
   "execution_count": 19,
   "id": "543f2448-aba2-416f-a02c-f46c1d74cca4",
   "metadata": {},
   "outputs": [],
   "source": [
    "# Step 1: Merge all three DataFrames\n",
    "merged_df_based_on_revenue = pizza_types.merge(pizzas, on='pizza_type_id').merge(order_details, on='pizza_id')"
   ]
  },
  {
   "cell_type": "code",
   "execution_count": 20,
   "id": "9418e0c7-cfc2-4fc4-a4e6-62fb09563490",
   "metadata": {},
   "outputs": [],
   "source": [
    "# Step 2 : Create a new col called revenue\n",
    "merged_df_based_on_revenue['revenue'] = merged_df_based_on_revenue['price'] * merged_df_based_on_revenue['quantity']"
   ]
  },
  {
   "cell_type": "code",
   "execution_count": 21,
   "id": "560d86b7-16e9-4d24-965b-f08d004ff8f4",
   "metadata": {},
   "outputs": [
    {
     "data": {
      "text/plain": [
       "0    12.75\n",
       "1    12.75\n",
       "2    12.75\n",
       "3    12.75\n",
       "4    12.75\n",
       "Name: revenue, dtype: float64"
      ]
     },
     "execution_count": 21,
     "metadata": {},
     "output_type": "execute_result"
    }
   ],
   "source": [
    "merged_df_based_on_revenue['revenue'].head()"
   ]
  },
  {
   "cell_type": "code",
   "execution_count": 22,
   "id": "4ea42628-2ad4-4aa6-98f2-b84fffe5846d",
   "metadata": {},
   "outputs": [
    {
     "data": {
      "text/html": [
       "<div>\n",
       "<style scoped>\n",
       "    .dataframe tbody tr th:only-of-type {\n",
       "        vertical-align: middle;\n",
       "    }\n",
       "\n",
       "    .dataframe tbody tr th {\n",
       "        vertical-align: top;\n",
       "    }\n",
       "\n",
       "    .dataframe thead th {\n",
       "        text-align: right;\n",
       "    }\n",
       "</style>\n",
       "<table border=\"1\" class=\"dataframe\">\n",
       "  <thead>\n",
       "    <tr style=\"text-align: right;\">\n",
       "      <th></th>\n",
       "      <th>pizza_type_id</th>\n",
       "      <th>name</th>\n",
       "      <th>category</th>\n",
       "      <th>ingredients</th>\n",
       "      <th>pizza_id</th>\n",
       "      <th>size</th>\n",
       "      <th>price</th>\n",
       "      <th>order_details_id</th>\n",
       "      <th>order_id</th>\n",
       "      <th>quantity</th>\n",
       "      <th>revenue</th>\n",
       "    </tr>\n",
       "  </thead>\n",
       "  <tbody>\n",
       "    <tr>\n",
       "      <th>0</th>\n",
       "      <td>bbq_ckn</td>\n",
       "      <td>The Barbecue Chicken Pizza</td>\n",
       "      <td>Chicken</td>\n",
       "      <td>Barbecued Chicken, Red Peppers, Green Peppers,...</td>\n",
       "      <td>bbq_ckn_s</td>\n",
       "      <td>S</td>\n",
       "      <td>12.75</td>\n",
       "      <td>11</td>\n",
       "      <td>6</td>\n",
       "      <td>1</td>\n",
       "      <td>12.75</td>\n",
       "    </tr>\n",
       "    <tr>\n",
       "      <th>1</th>\n",
       "      <td>bbq_ckn</td>\n",
       "      <td>The Barbecue Chicken Pizza</td>\n",
       "      <td>Chicken</td>\n",
       "      <td>Barbecued Chicken, Red Peppers, Green Peppers,...</td>\n",
       "      <td>bbq_ckn_s</td>\n",
       "      <td>S</td>\n",
       "      <td>12.75</td>\n",
       "      <td>239</td>\n",
       "      <td>102</td>\n",
       "      <td>1</td>\n",
       "      <td>12.75</td>\n",
       "    </tr>\n",
       "    <tr>\n",
       "      <th>2</th>\n",
       "      <td>bbq_ckn</td>\n",
       "      <td>The Barbecue Chicken Pizza</td>\n",
       "      <td>Chicken</td>\n",
       "      <td>Barbecued Chicken, Red Peppers, Green Peppers,...</td>\n",
       "      <td>bbq_ckn_s</td>\n",
       "      <td>S</td>\n",
       "      <td>12.75</td>\n",
       "      <td>294</td>\n",
       "      <td>124</td>\n",
       "      <td>1</td>\n",
       "      <td>12.75</td>\n",
       "    </tr>\n",
       "    <tr>\n",
       "      <th>3</th>\n",
       "      <td>bbq_ckn</td>\n",
       "      <td>The Barbecue Chicken Pizza</td>\n",
       "      <td>Chicken</td>\n",
       "      <td>Barbecued Chicken, Red Peppers, Green Peppers,...</td>\n",
       "      <td>bbq_ckn_s</td>\n",
       "      <td>S</td>\n",
       "      <td>12.75</td>\n",
       "      <td>458</td>\n",
       "      <td>194</td>\n",
       "      <td>1</td>\n",
       "      <td>12.75</td>\n",
       "    </tr>\n",
       "    <tr>\n",
       "      <th>4</th>\n",
       "      <td>bbq_ckn</td>\n",
       "      <td>The Barbecue Chicken Pizza</td>\n",
       "      <td>Chicken</td>\n",
       "      <td>Barbecued Chicken, Red Peppers, Green Peppers,...</td>\n",
       "      <td>bbq_ckn_s</td>\n",
       "      <td>S</td>\n",
       "      <td>12.75</td>\n",
       "      <td>489</td>\n",
       "      <td>208</td>\n",
       "      <td>1</td>\n",
       "      <td>12.75</td>\n",
       "    </tr>\n",
       "  </tbody>\n",
       "</table>\n",
       "</div>"
      ],
      "text/plain": [
       "  pizza_type_id                        name category  \\\n",
       "0       bbq_ckn  The Barbecue Chicken Pizza  Chicken   \n",
       "1       bbq_ckn  The Barbecue Chicken Pizza  Chicken   \n",
       "2       bbq_ckn  The Barbecue Chicken Pizza  Chicken   \n",
       "3       bbq_ckn  The Barbecue Chicken Pizza  Chicken   \n",
       "4       bbq_ckn  The Barbecue Chicken Pizza  Chicken   \n",
       "\n",
       "                                         ingredients   pizza_id size  price  \\\n",
       "0  Barbecued Chicken, Red Peppers, Green Peppers,...  bbq_ckn_s    S  12.75   \n",
       "1  Barbecued Chicken, Red Peppers, Green Peppers,...  bbq_ckn_s    S  12.75   \n",
       "2  Barbecued Chicken, Red Peppers, Green Peppers,...  bbq_ckn_s    S  12.75   \n",
       "3  Barbecued Chicken, Red Peppers, Green Peppers,...  bbq_ckn_s    S  12.75   \n",
       "4  Barbecued Chicken, Red Peppers, Green Peppers,...  bbq_ckn_s    S  12.75   \n",
       "\n",
       "   order_details_id  order_id  quantity  revenue  \n",
       "0                11         6         1    12.75  \n",
       "1               239       102         1    12.75  \n",
       "2               294       124         1    12.75  \n",
       "3               458       194         1    12.75  \n",
       "4               489       208         1    12.75  "
      ]
     },
     "execution_count": 22,
     "metadata": {},
     "output_type": "execute_result"
    }
   ],
   "source": [
    "merged_df_based_on_revenue.head()"
   ]
  },
  {
   "cell_type": "code",
   "execution_count": 23,
   "id": "6c170918-e05f-4601-8159-8d78059df8a6",
   "metadata": {},
   "outputs": [],
   "source": [
    "pizza_types_based_on_revenue = merged_df_based_on_revenue.groupby('name')['revenue'].sum()\n",
    "                                                          .reset_index()\n",
    "                                                        .sort_values(by='revenue', ascending = False).head(3)"
   ]
  },
  {
   "cell_type": "code",
   "execution_count": 24,
   "id": "bbaabda4-8a7a-47cf-867c-7ea8ef2bbefa",
   "metadata": {},
   "outputs": [
    {
     "data": {
      "text/html": [
       "<div>\n",
       "<style scoped>\n",
       "    .dataframe tbody tr th:only-of-type {\n",
       "        vertical-align: middle;\n",
       "    }\n",
       "\n",
       "    .dataframe tbody tr th {\n",
       "        vertical-align: top;\n",
       "    }\n",
       "\n",
       "    .dataframe thead th {\n",
       "        text-align: right;\n",
       "    }\n",
       "</style>\n",
       "<table border=\"1\" class=\"dataframe\">\n",
       "  <thead>\n",
       "    <tr style=\"text-align: right;\">\n",
       "      <th></th>\n",
       "      <th>name</th>\n",
       "      <th>revenue</th>\n",
       "    </tr>\n",
       "  </thead>\n",
       "  <tbody>\n",
       "    <tr>\n",
       "      <th>30</th>\n",
       "      <td>The Thai Chicken Pizza</td>\n",
       "      <td>43434.25</td>\n",
       "    </tr>\n",
       "    <tr>\n",
       "      <th>0</th>\n",
       "      <td>The Barbecue Chicken Pizza</td>\n",
       "      <td>42768.00</td>\n",
       "    </tr>\n",
       "    <tr>\n",
       "      <th>4</th>\n",
       "      <td>The California Chicken Pizza</td>\n",
       "      <td>41409.50</td>\n",
       "    </tr>\n",
       "  </tbody>\n",
       "</table>\n",
       "</div>"
      ],
      "text/plain": [
       "                            name   revenue\n",
       "30        The Thai Chicken Pizza  43434.25\n",
       "0     The Barbecue Chicken Pizza  42768.00\n",
       "4   The California Chicken Pizza  41409.50"
      ]
     },
     "execution_count": 24,
     "metadata": {},
     "output_type": "execute_result"
    }
   ],
   "source": [
    "pizza_types_based_on_revenue"
   ]
  },
  {
   "cell_type": "code",
   "execution_count": 25,
   "id": "51e18eea-de1c-4609-b8e5-b596ce37e473",
   "metadata": {},
   "outputs": [
    {
     "name": "stdout",
     "output_type": "stream",
     "text": [
      "The top 3 most ordered pizza types based on revenue:\n",
      "                             name   revenue\n",
      "30        The Thai Chicken Pizza  43434.25\n",
      "0     The Barbecue Chicken Pizza  42768.00\n",
      "4   The California Chicken Pizza  41409.50\n"
     ]
    }
   ],
   "source": [
    "# Step 4: Display result\n",
    "print('The top 3 most ordered pizza types based on revenue:\\n', pizza_types_based_on_revenue)"
   ]
  },
  {
   "cell_type": "markdown",
   "id": "340c1426-fe85-4d7c-a288-04b677210b36",
   "metadata": {},
   "source": [
    "## Advance Questins"
   ]
  },
  {
   "cell_type": "markdown",
   "id": "3c856ab7-ea5a-4401-81b9-e259bb661fe8",
   "metadata": {},
   "source": [
    "#### Q1. Calculate the percentage contribution of each pizza type by total revenue."
   ]
  },
  {
   "cell_type": "code",
   "execution_count": 26,
   "id": "26fff035-59c6-4ccb-9a37-33ca64dc8993",
   "metadata": {},
   "outputs": [],
   "source": [
    "# Step 1: Merge all three DataFrames\n",
    "merged_df_contribution = pizza_types.merge(pizzas, on='pizza_type_id').merge(order_details, on='pizza_id')"
   ]
  },
  {
   "cell_type": "code",
   "execution_count": 27,
   "id": "bed9af5c-ec74-4876-b19f-408df92f13c4",
   "metadata": {},
   "outputs": [],
   "source": [
    "# Step 2 : create revenue col \n",
    "merged_df_contribution['revenue'] = merged_df_contribution['price'] * merged_df_contribution['quantity']"
   ]
  },
  {
   "cell_type": "code",
   "execution_count": 28,
   "id": "f649f9b6-cfe3-4138-b8ff-f02deb8d581e",
   "metadata": {},
   "outputs": [
    {
     "data": {
      "text/html": [
       "<div>\n",
       "<style scoped>\n",
       "    .dataframe tbody tr th:only-of-type {\n",
       "        vertical-align: middle;\n",
       "    }\n",
       "\n",
       "    .dataframe tbody tr th {\n",
       "        vertical-align: top;\n",
       "    }\n",
       "\n",
       "    .dataframe thead th {\n",
       "        text-align: right;\n",
       "    }\n",
       "</style>\n",
       "<table border=\"1\" class=\"dataframe\">\n",
       "  <thead>\n",
       "    <tr style=\"text-align: right;\">\n",
       "      <th></th>\n",
       "      <th>category</th>\n",
       "      <th>revenue</th>\n",
       "    </tr>\n",
       "  </thead>\n",
       "  <tbody>\n",
       "    <tr>\n",
       "      <th>1</th>\n",
       "      <td>Classic</td>\n",
       "      <td>220053.10</td>\n",
       "    </tr>\n",
       "    <tr>\n",
       "      <th>2</th>\n",
       "      <td>Supreme</td>\n",
       "      <td>208197.00</td>\n",
       "    </tr>\n",
       "    <tr>\n",
       "      <th>0</th>\n",
       "      <td>Chicken</td>\n",
       "      <td>195919.50</td>\n",
       "    </tr>\n",
       "    <tr>\n",
       "      <th>3</th>\n",
       "      <td>Veggie</td>\n",
       "      <td>193690.45</td>\n",
       "    </tr>\n",
       "  </tbody>\n",
       "</table>\n",
       "</div>"
      ],
      "text/plain": [
       "  category    revenue\n",
       "1  Classic  220053.10\n",
       "2  Supreme  208197.00\n",
       "0  Chicken  195919.50\n",
       "3   Veggie  193690.45"
      ]
     },
     "execution_count": 28,
     "metadata": {},
     "output_type": "execute_result"
    }
   ],
   "source": [
    "# step 3 : Group by category and sum revenue\n",
    "total_revenue = merged_df_contribution.groupby('category', as_index = False)['revenue'].sum().sort_values(by='revenue', ascending = False)\n",
    "total_revenue"
   ]
  },
  {
   "cell_type": "code",
   "execution_count": 29,
   "id": "3aec0191-b062-48d2-97b5-f96841755029",
   "metadata": {},
   "outputs": [
    {
     "data": {
      "text/html": [
       "<div>\n",
       "<style scoped>\n",
       "    .dataframe tbody tr th:only-of-type {\n",
       "        vertical-align: middle;\n",
       "    }\n",
       "\n",
       "    .dataframe tbody tr th {\n",
       "        vertical-align: top;\n",
       "    }\n",
       "\n",
       "    .dataframe thead th {\n",
       "        text-align: right;\n",
       "    }\n",
       "</style>\n",
       "<table border=\"1\" class=\"dataframe\">\n",
       "  <thead>\n",
       "    <tr style=\"text-align: right;\">\n",
       "      <th></th>\n",
       "      <th>category</th>\n",
       "      <th>revenue</th>\n",
       "    </tr>\n",
       "  </thead>\n",
       "  <tbody>\n",
       "    <tr>\n",
       "      <th>1</th>\n",
       "      <td>Classic</td>\n",
       "      <td>220053.10</td>\n",
       "    </tr>\n",
       "    <tr>\n",
       "      <th>2</th>\n",
       "      <td>Supreme</td>\n",
       "      <td>208197.00</td>\n",
       "    </tr>\n",
       "    <tr>\n",
       "      <th>0</th>\n",
       "      <td>Chicken</td>\n",
       "      <td>195919.50</td>\n",
       "    </tr>\n",
       "    <tr>\n",
       "      <th>3</th>\n",
       "      <td>Veggie</td>\n",
       "      <td>193690.45</td>\n",
       "    </tr>\n",
       "  </tbody>\n",
       "</table>\n",
       "</div>"
      ],
      "text/plain": [
       "  category    revenue\n",
       "1  Classic  220053.10\n",
       "2  Supreme  208197.00\n",
       "0  Chicken  195919.50\n",
       "3   Veggie  193690.45"
      ]
     },
     "execution_count": 29,
     "metadata": {},
     "output_type": "execute_result"
    }
   ],
   "source": [
    "total_revenue"
   ]
  },
  {
   "cell_type": "code",
   "execution_count": 30,
   "id": "07bc512a-2240-40ce-885b-39c234654174",
   "metadata": {},
   "outputs": [],
   "source": [
    "# Step 4: Calculate Percentage Revenue\n",
    "total_percentage_contribution  = total_revenue['revenue'].sum()"
   ]
  },
  {
   "cell_type": "code",
   "execution_count": 31,
   "id": "8aefb8f8-3d70-41ec-8b14-edf8bace6db1",
   "metadata": {},
   "outputs": [
    {
     "data": {
      "text/plain": [
       "817860.05"
      ]
     },
     "execution_count": 31,
     "metadata": {},
     "output_type": "execute_result"
    }
   ],
   "source": [
    "total_percentage_contribution"
   ]
  },
  {
   "cell_type": "code",
   "execution_count": 32,
   "id": "2ad33c9b-9c5d-46c1-b210-0a3ed3af95c9",
   "metadata": {},
   "outputs": [],
   "source": [
    "total_revenue['percentage revenue'] = round(total_revenue['revenue'] * 100 / total_percentage_contribution , 2)"
   ]
  },
  {
   "cell_type": "code",
   "execution_count": 33,
   "id": "5febc38a-4ec2-435b-9823-b94f16d61aa2",
   "metadata": {},
   "outputs": [],
   "source": [
    "# Step 5 : Print result \n",
    "pizza_countribution_by_total_revenue = total_revenue[['category','percentage revenue']]"
   ]
  },
  {
   "cell_type": "code",
   "execution_count": 34,
   "id": "03c65d0c-a80e-4190-8b91-600f3e3722d0",
   "metadata": {},
   "outputs": [
    {
     "name": "stdout",
     "output_type": "stream",
     "text": [
      "The percentage contribution of each pizza type by total revenue are below: \n",
      "   category  percentage revenue\n",
      "1  Classic               26.91\n",
      "2  Supreme               25.46\n",
      "0  Chicken               23.96\n",
      "3   Veggie               23.68\n"
     ]
    }
   ],
   "source": [
    "print('The percentage contribution of each pizza type by total revenue are below: \\n', pizza_countribution_by_total_revenue)"
   ]
  },
  {
   "cell_type": "markdown",
   "id": "393c1b7a-0480-494a-b290-79e0a2dca42d",
   "metadata": {},
   "source": [
    "#### Q2. Analyze the cumulative revenue generated over time."
   ]
  },
  {
   "cell_type": "code",
   "execution_count": 45,
   "id": "876c1515-9329-441c-8d6e-80096c3ffff5",
   "metadata": {},
   "outputs": [],
   "source": [
    "# Step 1 :  Merge datasets \n",
    "cumulative_revenue_merged_df = order_details.merge(pizzas, on = 'pizza_id').merge(orders, on = 'order_id')"
   ]
  },
  {
   "cell_type": "code",
   "execution_count": 48,
   "id": "bc662cc0-c809-444c-a1b1-8a34cde5aac1",
   "metadata": {},
   "outputs": [
    {
     "data": {
      "text/html": [
       "<div>\n",
       "<style scoped>\n",
       "    .dataframe tbody tr th:only-of-type {\n",
       "        vertical-align: middle;\n",
       "    }\n",
       "\n",
       "    .dataframe tbody tr th {\n",
       "        vertical-align: top;\n",
       "    }\n",
       "\n",
       "    .dataframe thead th {\n",
       "        text-align: right;\n",
       "    }\n",
       "</style>\n",
       "<table border=\"1\" class=\"dataframe\">\n",
       "  <thead>\n",
       "    <tr style=\"text-align: right;\">\n",
       "      <th></th>\n",
       "      <th>order_details_id</th>\n",
       "      <th>order_id</th>\n",
       "      <th>pizza_id</th>\n",
       "      <th>quantity</th>\n",
       "      <th>pizza_type_id</th>\n",
       "      <th>size</th>\n",
       "      <th>price</th>\n",
       "      <th>date</th>\n",
       "      <th>time</th>\n",
       "      <th>hour</th>\n",
       "    </tr>\n",
       "  </thead>\n",
       "  <tbody>\n",
       "    <tr>\n",
       "      <th>0</th>\n",
       "      <td>1</td>\n",
       "      <td>1</td>\n",
       "      <td>hawaiian_m</td>\n",
       "      <td>1</td>\n",
       "      <td>hawaiian</td>\n",
       "      <td>M</td>\n",
       "      <td>13.25</td>\n",
       "      <td>2015-01-01</td>\n",
       "      <td>11:38:36</td>\n",
       "      <td>11</td>\n",
       "    </tr>\n",
       "    <tr>\n",
       "      <th>1</th>\n",
       "      <td>2</td>\n",
       "      <td>2</td>\n",
       "      <td>classic_dlx_m</td>\n",
       "      <td>1</td>\n",
       "      <td>classic_dlx</td>\n",
       "      <td>M</td>\n",
       "      <td>16.00</td>\n",
       "      <td>2015-01-01</td>\n",
       "      <td>11:57:40</td>\n",
       "      <td>11</td>\n",
       "    </tr>\n",
       "    <tr>\n",
       "      <th>2</th>\n",
       "      <td>3</td>\n",
       "      <td>2</td>\n",
       "      <td>five_cheese_l</td>\n",
       "      <td>1</td>\n",
       "      <td>five_cheese</td>\n",
       "      <td>L</td>\n",
       "      <td>18.50</td>\n",
       "      <td>2015-01-01</td>\n",
       "      <td>11:57:40</td>\n",
       "      <td>11</td>\n",
       "    </tr>\n",
       "    <tr>\n",
       "      <th>3</th>\n",
       "      <td>4</td>\n",
       "      <td>2</td>\n",
       "      <td>ital_supr_l</td>\n",
       "      <td>1</td>\n",
       "      <td>ital_supr</td>\n",
       "      <td>L</td>\n",
       "      <td>20.75</td>\n",
       "      <td>2015-01-01</td>\n",
       "      <td>11:57:40</td>\n",
       "      <td>11</td>\n",
       "    </tr>\n",
       "    <tr>\n",
       "      <th>4</th>\n",
       "      <td>5</td>\n",
       "      <td>2</td>\n",
       "      <td>mexicana_m</td>\n",
       "      <td>1</td>\n",
       "      <td>mexicana</td>\n",
       "      <td>M</td>\n",
       "      <td>16.00</td>\n",
       "      <td>2015-01-01</td>\n",
       "      <td>11:57:40</td>\n",
       "      <td>11</td>\n",
       "    </tr>\n",
       "  </tbody>\n",
       "</table>\n",
       "</div>"
      ],
      "text/plain": [
       "   order_details_id  order_id       pizza_id  quantity pizza_type_id size  \\\n",
       "0                 1         1     hawaiian_m         1      hawaiian    M   \n",
       "1                 2         2  classic_dlx_m         1   classic_dlx    M   \n",
       "2                 3         2  five_cheese_l         1   five_cheese    L   \n",
       "3                 4         2    ital_supr_l         1     ital_supr    L   \n",
       "4                 5         2     mexicana_m         1      mexicana    M   \n",
       "\n",
       "   price        date      time  hour  \n",
       "0  13.25  2015-01-01  11:38:36    11  \n",
       "1  16.00  2015-01-01  11:57:40    11  \n",
       "2  18.50  2015-01-01  11:57:40    11  \n",
       "3  20.75  2015-01-01  11:57:40    11  \n",
       "4  16.00  2015-01-01  11:57:40    11  "
      ]
     },
     "execution_count": 48,
     "metadata": {},
     "output_type": "execute_result"
    }
   ],
   "source": [
    "cumulative_revenue_merged_df.head()"
   ]
  },
  {
   "cell_type": "code",
   "execution_count": 47,
   "id": "0e815e90-ed4b-4c82-aa7f-83cded8c9eed",
   "metadata": {},
   "outputs": [
    {
     "data": {
      "text/plain": [
       "order_details_id    0\n",
       "order_id            0\n",
       "pizza_id            0\n",
       "quantity            0\n",
       "pizza_type_id       0\n",
       "size                0\n",
       "price               0\n",
       "date                0\n",
       "time                0\n",
       "hour                0\n",
       "dtype: int64"
      ]
     },
     "execution_count": 47,
     "metadata": {},
     "output_type": "execute_result"
    }
   ],
   "source": [
    "cumulative_revenue_merged_df.isnull().sum()"
   ]
  },
  {
   "cell_type": "code",
   "execution_count": 50,
   "id": "934c15aa-73d7-44b7-92ce-4b335f36d7aa",
   "metadata": {},
   "outputs": [],
   "source": [
    "# Step 2 : create revenue column\n",
    "cumulative_revenue_merged_df['revenue'] = cumulative_revenue_merged_df['price'] * cumulative_revenue_merged_df['quantity']"
   ]
  },
  {
   "cell_type": "code",
   "execution_count": 51,
   "id": "094f6b84-caa1-4819-bc65-c16a08b3286a",
   "metadata": {},
   "outputs": [
    {
     "data": {
      "text/html": [
       "<div>\n",
       "<style scoped>\n",
       "    .dataframe tbody tr th:only-of-type {\n",
       "        vertical-align: middle;\n",
       "    }\n",
       "\n",
       "    .dataframe tbody tr th {\n",
       "        vertical-align: top;\n",
       "    }\n",
       "\n",
       "    .dataframe thead th {\n",
       "        text-align: right;\n",
       "    }\n",
       "</style>\n",
       "<table border=\"1\" class=\"dataframe\">\n",
       "  <thead>\n",
       "    <tr style=\"text-align: right;\">\n",
       "      <th></th>\n",
       "      <th>order_details_id</th>\n",
       "      <th>order_id</th>\n",
       "      <th>pizza_id</th>\n",
       "      <th>quantity</th>\n",
       "      <th>pizza_type_id</th>\n",
       "      <th>size</th>\n",
       "      <th>price</th>\n",
       "      <th>date</th>\n",
       "      <th>time</th>\n",
       "      <th>hour</th>\n",
       "      <th>revenue</th>\n",
       "    </tr>\n",
       "  </thead>\n",
       "  <tbody>\n",
       "    <tr>\n",
       "      <th>0</th>\n",
       "      <td>1</td>\n",
       "      <td>1</td>\n",
       "      <td>hawaiian_m</td>\n",
       "      <td>1</td>\n",
       "      <td>hawaiian</td>\n",
       "      <td>M</td>\n",
       "      <td>13.25</td>\n",
       "      <td>2015-01-01</td>\n",
       "      <td>11:38:36</td>\n",
       "      <td>11</td>\n",
       "      <td>13.25</td>\n",
       "    </tr>\n",
       "    <tr>\n",
       "      <th>1</th>\n",
       "      <td>2</td>\n",
       "      <td>2</td>\n",
       "      <td>classic_dlx_m</td>\n",
       "      <td>1</td>\n",
       "      <td>classic_dlx</td>\n",
       "      <td>M</td>\n",
       "      <td>16.00</td>\n",
       "      <td>2015-01-01</td>\n",
       "      <td>11:57:40</td>\n",
       "      <td>11</td>\n",
       "      <td>16.00</td>\n",
       "    </tr>\n",
       "    <tr>\n",
       "      <th>2</th>\n",
       "      <td>3</td>\n",
       "      <td>2</td>\n",
       "      <td>five_cheese_l</td>\n",
       "      <td>1</td>\n",
       "      <td>five_cheese</td>\n",
       "      <td>L</td>\n",
       "      <td>18.50</td>\n",
       "      <td>2015-01-01</td>\n",
       "      <td>11:57:40</td>\n",
       "      <td>11</td>\n",
       "      <td>18.50</td>\n",
       "    </tr>\n",
       "    <tr>\n",
       "      <th>3</th>\n",
       "      <td>4</td>\n",
       "      <td>2</td>\n",
       "      <td>ital_supr_l</td>\n",
       "      <td>1</td>\n",
       "      <td>ital_supr</td>\n",
       "      <td>L</td>\n",
       "      <td>20.75</td>\n",
       "      <td>2015-01-01</td>\n",
       "      <td>11:57:40</td>\n",
       "      <td>11</td>\n",
       "      <td>20.75</td>\n",
       "    </tr>\n",
       "    <tr>\n",
       "      <th>4</th>\n",
       "      <td>5</td>\n",
       "      <td>2</td>\n",
       "      <td>mexicana_m</td>\n",
       "      <td>1</td>\n",
       "      <td>mexicana</td>\n",
       "      <td>M</td>\n",
       "      <td>16.00</td>\n",
       "      <td>2015-01-01</td>\n",
       "      <td>11:57:40</td>\n",
       "      <td>11</td>\n",
       "      <td>16.00</td>\n",
       "    </tr>\n",
       "  </tbody>\n",
       "</table>\n",
       "</div>"
      ],
      "text/plain": [
       "   order_details_id  order_id       pizza_id  quantity pizza_type_id size  \\\n",
       "0                 1         1     hawaiian_m         1      hawaiian    M   \n",
       "1                 2         2  classic_dlx_m         1   classic_dlx    M   \n",
       "2                 3         2  five_cheese_l         1   five_cheese    L   \n",
       "3                 4         2    ital_supr_l         1     ital_supr    L   \n",
       "4                 5         2     mexicana_m         1      mexicana    M   \n",
       "\n",
       "   price        date      time  hour  revenue  \n",
       "0  13.25  2015-01-01  11:38:36    11    13.25  \n",
       "1  16.00  2015-01-01  11:57:40    11    16.00  \n",
       "2  18.50  2015-01-01  11:57:40    11    18.50  \n",
       "3  20.75  2015-01-01  11:57:40    11    20.75  \n",
       "4  16.00  2015-01-01  11:57:40    11    16.00  "
      ]
     },
     "execution_count": 51,
     "metadata": {},
     "output_type": "execute_result"
    }
   ],
   "source": [
    "cumulative_revenue_merged_df.head()"
   ]
  },
  {
   "cell_type": "code",
   "execution_count": 69,
   "id": "4d168f7c-c2c2-4381-a884-55679cb1bd82",
   "metadata": {},
   "outputs": [
    {
     "data": {
      "text/html": [
       "<div>\n",
       "<style scoped>\n",
       "    .dataframe tbody tr th:only-of-type {\n",
       "        vertical-align: middle;\n",
       "    }\n",
       "\n",
       "    .dataframe tbody tr th {\n",
       "        vertical-align: top;\n",
       "    }\n",
       "\n",
       "    .dataframe thead th {\n",
       "        text-align: right;\n",
       "    }\n",
       "</style>\n",
       "<table border=\"1\" class=\"dataframe\">\n",
       "  <thead>\n",
       "    <tr style=\"text-align: right;\">\n",
       "      <th></th>\n",
       "      <th>date</th>\n",
       "      <th>revenue</th>\n",
       "    </tr>\n",
       "  </thead>\n",
       "  <tbody>\n",
       "    <tr>\n",
       "      <th>0</th>\n",
       "      <td>2015-01-01</td>\n",
       "      <td>2713.85</td>\n",
       "    </tr>\n",
       "    <tr>\n",
       "      <th>1</th>\n",
       "      <td>2015-01-02</td>\n",
       "      <td>2731.90</td>\n",
       "    </tr>\n",
       "    <tr>\n",
       "      <th>2</th>\n",
       "      <td>2015-01-03</td>\n",
       "      <td>2662.40</td>\n",
       "    </tr>\n",
       "    <tr>\n",
       "      <th>3</th>\n",
       "      <td>2015-01-04</td>\n",
       "      <td>1755.45</td>\n",
       "    </tr>\n",
       "    <tr>\n",
       "      <th>4</th>\n",
       "      <td>2015-01-05</td>\n",
       "      <td>2065.95</td>\n",
       "    </tr>\n",
       "  </tbody>\n",
       "</table>\n",
       "</div>"
      ],
      "text/plain": [
       "         date  revenue\n",
       "0  2015-01-01  2713.85\n",
       "1  2015-01-02  2731.90\n",
       "2  2015-01-03  2662.40\n",
       "3  2015-01-04  1755.45\n",
       "4  2015-01-05  2065.95"
      ]
     },
     "execution_count": 69,
     "metadata": {},
     "output_type": "execute_result"
    }
   ],
   "source": [
    "# Step 3 : Group by date to get daily revenue\n",
    "daily_total =  cumulative_revenue_merged_df.groupby('date', as_index=False)['revenue'].sum()\n",
    "daily_total.head()\n"
   ]
  },
  {
   "cell_type": "code",
   "execution_count": 70,
   "id": "c7a695fe-0162-4fa2-9c13-d3d21e57f616",
   "metadata": {},
   "outputs": [],
   "source": [
    "# Step 4 : Calculate cumulative revenue from above\n",
    "daily_total['cumulative_revenue'] = daily_total['revenue'].cumsum()"
   ]
  },
  {
   "cell_type": "code",
   "execution_count": 72,
   "id": "a2210501-8431-4cdf-8418-4c0d4dee7309",
   "metadata": {},
   "outputs": [
    {
     "name": "stdout",
     "output_type": "stream",
     "text": [
      "           date  revenue  cumulative_revenue\n",
      "0    2015-01-01  2713.85             2713.85\n",
      "1    2015-01-02  2731.90             5445.75\n",
      "2    2015-01-03  2662.40             8108.15\n",
      "3    2015-01-04  1755.45             9863.60\n",
      "4    2015-01-05  2065.95            11929.55\n",
      "..          ...      ...                 ...\n",
      "353  2015-12-27  1419.00           810615.80\n",
      "354  2015-12-28  1637.20           812253.00\n",
      "355  2015-12-29  1353.25           813606.25\n",
      "356  2015-12-30  1337.80           814944.05\n",
      "357  2015-12-31  2916.00           817860.05\n",
      "\n",
      "[358 rows x 3 columns]\n"
     ]
    }
   ],
   "source": [
    "# Step 5 : display result\n",
    "print(daily_total)"
   ]
  },
  {
   "cell_type": "markdown",
   "id": "806eb264-cf30-47d2-91d2-787dba97d970",
   "metadata": {},
   "source": [
    "#### Q3. Determine the top 3 most ordered pizza types based on revenue for each pizza category."
   ]
  },
  {
   "cell_type": "code",
   "execution_count": 75,
   "id": "29481c78-ca8a-4e00-a4e8-0012457a3b50",
   "metadata": {},
   "outputs": [],
   "source": [
    "# Step 1: Merge all three DataFrames\n",
    "merged_df_top_3 = pizza_types.merge(pizzas, on='pizza_type_id').merge(order_details, on='pizza_id')"
   ]
  },
  {
   "cell_type": "code",
   "execution_count": 77,
   "id": "7ced8be9-e3f9-4e16-9d69-9a77046ae9c2",
   "metadata": {},
   "outputs": [],
   "source": [
    "# Step 2 : create revenue col \n",
    "merged_df_top_3['revenue'] = merged_df_top_3['price'] * merged_df_top_3['quantity']"
   ]
  },
  {
   "cell_type": "code",
   "execution_count": 78,
   "id": "d95729d1-510c-4a0f-af40-1e8c272e2a55",
   "metadata": {},
   "outputs": [
    {
     "data": {
      "text/html": [
       "<div>\n",
       "<style scoped>\n",
       "    .dataframe tbody tr th:only-of-type {\n",
       "        vertical-align: middle;\n",
       "    }\n",
       "\n",
       "    .dataframe tbody tr th {\n",
       "        vertical-align: top;\n",
       "    }\n",
       "\n",
       "    .dataframe thead th {\n",
       "        text-align: right;\n",
       "    }\n",
       "</style>\n",
       "<table border=\"1\" class=\"dataframe\">\n",
       "  <thead>\n",
       "    <tr style=\"text-align: right;\">\n",
       "      <th></th>\n",
       "      <th>category</th>\n",
       "      <th>name</th>\n",
       "      <th>revenue</th>\n",
       "    </tr>\n",
       "  </thead>\n",
       "  <tbody>\n",
       "    <tr>\n",
       "      <th>0</th>\n",
       "      <td>Chicken</td>\n",
       "      <td>The Barbecue Chicken Pizza</td>\n",
       "      <td>42768.00</td>\n",
       "    </tr>\n",
       "    <tr>\n",
       "      <th>1</th>\n",
       "      <td>Chicken</td>\n",
       "      <td>The California Chicken Pizza</td>\n",
       "      <td>41409.50</td>\n",
       "    </tr>\n",
       "    <tr>\n",
       "      <th>2</th>\n",
       "      <td>Chicken</td>\n",
       "      <td>The Chicken Alfredo Pizza</td>\n",
       "      <td>16900.25</td>\n",
       "    </tr>\n",
       "    <tr>\n",
       "      <th>3</th>\n",
       "      <td>Chicken</td>\n",
       "      <td>The Chicken Pesto Pizza</td>\n",
       "      <td>16701.75</td>\n",
       "    </tr>\n",
       "    <tr>\n",
       "      <th>4</th>\n",
       "      <td>Chicken</td>\n",
       "      <td>The Southwest Chicken Pizza</td>\n",
       "      <td>34705.75</td>\n",
       "    </tr>\n",
       "  </tbody>\n",
       "</table>\n",
       "</div>"
      ],
      "text/plain": [
       "  category                          name   revenue\n",
       "0  Chicken    The Barbecue Chicken Pizza  42768.00\n",
       "1  Chicken  The California Chicken Pizza  41409.50\n",
       "2  Chicken     The Chicken Alfredo Pizza  16900.25\n",
       "3  Chicken       The Chicken Pesto Pizza  16701.75\n",
       "4  Chicken   The Southwest Chicken Pizza  34705.75"
      ]
     },
     "execution_count": 78,
     "metadata": {},
     "output_type": "execute_result"
    }
   ],
   "source": [
    "# Step 3 : Group by date to get daily revenue\n",
    "most_ordered_pizza  =  merged_df_top_3.groupby(['category','name'], as_index=False)['revenue'].sum()\n",
    "most_ordered_pizza.head()\n"
   ]
  },
  {
   "cell_type": "code",
   "execution_count": 79,
   "id": "ea39e090-cbbd-43e0-95a9-37c3e4a664c4",
   "metadata": {},
   "outputs": [],
   "source": [
    "# Step 4: Rank pizzas by revenue within each category\n",
    "most_ordered_pizza['rank'] = most_ordered_pizza.groupby('category')['revenue'] \\\n",
    "                               .rank(method='dense', ascending=False)"
   ]
  },
  {
   "cell_type": "code",
   "execution_count": 81,
   "id": "a7290f3d-e065-4092-a4c4-f1269589424d",
   "metadata": {},
   "outputs": [
    {
     "data": {
      "text/html": [
       "<div>\n",
       "<style scoped>\n",
       "    .dataframe tbody tr th:only-of-type {\n",
       "        vertical-align: middle;\n",
       "    }\n",
       "\n",
       "    .dataframe tbody tr th {\n",
       "        vertical-align: top;\n",
       "    }\n",
       "\n",
       "    .dataframe thead th {\n",
       "        text-align: right;\n",
       "    }\n",
       "</style>\n",
       "<table border=\"1\" class=\"dataframe\">\n",
       "  <thead>\n",
       "    <tr style=\"text-align: right;\">\n",
       "      <th></th>\n",
       "      <th>category</th>\n",
       "      <th>name</th>\n",
       "      <th>revenue</th>\n",
       "      <th>rank</th>\n",
       "    </tr>\n",
       "  </thead>\n",
       "  <tbody>\n",
       "    <tr>\n",
       "      <th>0</th>\n",
       "      <td>Chicken</td>\n",
       "      <td>The Barbecue Chicken Pizza</td>\n",
       "      <td>42768.00</td>\n",
       "      <td>2.0</td>\n",
       "    </tr>\n",
       "    <tr>\n",
       "      <th>1</th>\n",
       "      <td>Chicken</td>\n",
       "      <td>The California Chicken Pizza</td>\n",
       "      <td>41409.50</td>\n",
       "      <td>3.0</td>\n",
       "    </tr>\n",
       "    <tr>\n",
       "      <th>2</th>\n",
       "      <td>Chicken</td>\n",
       "      <td>The Chicken Alfredo Pizza</td>\n",
       "      <td>16900.25</td>\n",
       "      <td>5.0</td>\n",
       "    </tr>\n",
       "    <tr>\n",
       "      <th>3</th>\n",
       "      <td>Chicken</td>\n",
       "      <td>The Chicken Pesto Pizza</td>\n",
       "      <td>16701.75</td>\n",
       "      <td>6.0</td>\n",
       "    </tr>\n",
       "    <tr>\n",
       "      <th>4</th>\n",
       "      <td>Chicken</td>\n",
       "      <td>The Southwest Chicken Pizza</td>\n",
       "      <td>34705.75</td>\n",
       "      <td>4.0</td>\n",
       "    </tr>\n",
       "  </tbody>\n",
       "</table>\n",
       "</div>"
      ],
      "text/plain": [
       "  category                          name   revenue  rank\n",
       "0  Chicken    The Barbecue Chicken Pizza  42768.00   2.0\n",
       "1  Chicken  The California Chicken Pizza  41409.50   3.0\n",
       "2  Chicken     The Chicken Alfredo Pizza  16900.25   5.0\n",
       "3  Chicken       The Chicken Pesto Pizza  16701.75   6.0\n",
       "4  Chicken   The Southwest Chicken Pizza  34705.75   4.0"
      ]
     },
     "execution_count": 81,
     "metadata": {},
     "output_type": "execute_result"
    }
   ],
   "source": [
    "most_ordered_pizza.head()"
   ]
  },
  {
   "cell_type": "code",
   "execution_count": 83,
   "id": "162eee88-2454-48cc-b11e-46d40d6611ea",
   "metadata": {},
   "outputs": [
    {
     "data": {
      "text/html": [
       "<div>\n",
       "<style scoped>\n",
       "    .dataframe tbody tr th:only-of-type {\n",
       "        vertical-align: middle;\n",
       "    }\n",
       "\n",
       "    .dataframe tbody tr th {\n",
       "        vertical-align: top;\n",
       "    }\n",
       "\n",
       "    .dataframe thead th {\n",
       "        text-align: right;\n",
       "    }\n",
       "</style>\n",
       "<table border=\"1\" class=\"dataframe\">\n",
       "  <thead>\n",
       "    <tr style=\"text-align: right;\">\n",
       "      <th></th>\n",
       "      <th>category</th>\n",
       "      <th>name</th>\n",
       "      <th>revenue</th>\n",
       "      <th>rank</th>\n",
       "    </tr>\n",
       "  </thead>\n",
       "  <tbody>\n",
       "    <tr>\n",
       "      <th>0</th>\n",
       "      <td>Chicken</td>\n",
       "      <td>The Barbecue Chicken Pizza</td>\n",
       "      <td>42768.00</td>\n",
       "      <td>2.0</td>\n",
       "    </tr>\n",
       "    <tr>\n",
       "      <th>1</th>\n",
       "      <td>Chicken</td>\n",
       "      <td>The California Chicken Pizza</td>\n",
       "      <td>41409.50</td>\n",
       "      <td>3.0</td>\n",
       "    </tr>\n",
       "    <tr>\n",
       "      <th>5</th>\n",
       "      <td>Chicken</td>\n",
       "      <td>The Thai Chicken Pizza</td>\n",
       "      <td>43434.25</td>\n",
       "      <td>1.0</td>\n",
       "    </tr>\n",
       "    <tr>\n",
       "      <th>7</th>\n",
       "      <td>Classic</td>\n",
       "      <td>The Classic Deluxe Pizza</td>\n",
       "      <td>38180.50</td>\n",
       "      <td>1.0</td>\n",
       "    </tr>\n",
       "    <tr>\n",
       "      <th>9</th>\n",
       "      <td>Classic</td>\n",
       "      <td>The Hawaiian Pizza</td>\n",
       "      <td>32273.25</td>\n",
       "      <td>2.0</td>\n",
       "    </tr>\n",
       "    <tr>\n",
       "      <th>12</th>\n",
       "      <td>Classic</td>\n",
       "      <td>The Pepperoni Pizza</td>\n",
       "      <td>30161.75</td>\n",
       "      <td>3.0</td>\n",
       "    </tr>\n",
       "    <tr>\n",
       "      <th>16</th>\n",
       "      <td>Supreme</td>\n",
       "      <td>The Italian Supreme Pizza</td>\n",
       "      <td>33476.75</td>\n",
       "      <td>2.0</td>\n",
       "    </tr>\n",
       "    <tr>\n",
       "      <th>19</th>\n",
       "      <td>Supreme</td>\n",
       "      <td>The Sicilian Pizza</td>\n",
       "      <td>30940.50</td>\n",
       "      <td>3.0</td>\n",
       "    </tr>\n",
       "    <tr>\n",
       "      <th>21</th>\n",
       "      <td>Supreme</td>\n",
       "      <td>The Spicy Italian Pizza</td>\n",
       "      <td>34831.25</td>\n",
       "      <td>1.0</td>\n",
       "    </tr>\n",
       "    <tr>\n",
       "      <th>23</th>\n",
       "      <td>Veggie</td>\n",
       "      <td>The Five Cheese Pizza</td>\n",
       "      <td>26066.50</td>\n",
       "      <td>3.0</td>\n",
       "    </tr>\n",
       "    <tr>\n",
       "      <th>24</th>\n",
       "      <td>Veggie</td>\n",
       "      <td>The Four Cheese Pizza</td>\n",
       "      <td>32265.70</td>\n",
       "      <td>1.0</td>\n",
       "    </tr>\n",
       "    <tr>\n",
       "      <th>28</th>\n",
       "      <td>Veggie</td>\n",
       "      <td>The Mexicana Pizza</td>\n",
       "      <td>26780.75</td>\n",
       "      <td>2.0</td>\n",
       "    </tr>\n",
       "  </tbody>\n",
       "</table>\n",
       "</div>"
      ],
      "text/plain": [
       "   category                          name   revenue  rank\n",
       "0   Chicken    The Barbecue Chicken Pizza  42768.00   2.0\n",
       "1   Chicken  The California Chicken Pizza  41409.50   3.0\n",
       "5   Chicken        The Thai Chicken Pizza  43434.25   1.0\n",
       "7   Classic      The Classic Deluxe Pizza  38180.50   1.0\n",
       "9   Classic            The Hawaiian Pizza  32273.25   2.0\n",
       "12  Classic           The Pepperoni Pizza  30161.75   3.0\n",
       "16  Supreme     The Italian Supreme Pizza  33476.75   2.0\n",
       "19  Supreme            The Sicilian Pizza  30940.50   3.0\n",
       "21  Supreme       The Spicy Italian Pizza  34831.25   1.0\n",
       "23   Veggie         The Five Cheese Pizza  26066.50   3.0\n",
       "24   Veggie         The Four Cheese Pizza  32265.70   1.0\n",
       "28   Veggie            The Mexicana Pizza  26780.75   2.0"
      ]
     },
     "execution_count": 83,
     "metadata": {},
     "output_type": "execute_result"
    }
   ],
   "source": [
    "# Step 5: Filter top 3 per category\n",
    "top_3_per_category = most_ordered_pizza[most_ordered_pizza['rank'] <= 3]\n",
    "top_3_per_category"
   ]
  },
  {
   "cell_type": "code",
   "execution_count": 85,
   "id": "6a4f419f-9906-4146-bb46-616424d8e701",
   "metadata": {},
   "outputs": [
    {
     "name": "stdout",
     "output_type": "stream",
     "text": [
      "   category                          name   revenue  rank\n",
      "5   Chicken        The Thai Chicken Pizza  43434.25   1.0\n",
      "0   Chicken    The Barbecue Chicken Pizza  42768.00   2.0\n",
      "1   Chicken  The California Chicken Pizza  41409.50   3.0\n",
      "7   Classic      The Classic Deluxe Pizza  38180.50   1.0\n",
      "9   Classic            The Hawaiian Pizza  32273.25   2.0\n",
      "12  Classic           The Pepperoni Pizza  30161.75   3.0\n",
      "21  Supreme       The Spicy Italian Pizza  34831.25   1.0\n",
      "16  Supreme     The Italian Supreme Pizza  33476.75   2.0\n",
      "19  Supreme            The Sicilian Pizza  30940.50   3.0\n",
      "24   Veggie         The Four Cheese Pizza  32265.70   1.0\n",
      "28   Veggie            The Mexicana Pizza  26780.75   2.0\n",
      "23   Veggie         The Five Cheese Pizza  26066.50   3.0\n"
     ]
    }
   ],
   "source": [
    "# Sort according to rank\n",
    "top_3_per_category = top_3_per_category.sort_values(['category','rank'])\n",
    "print(top_3_per_category)"
   ]
  },
  {
   "cell_type": "markdown",
   "id": "0f468343-bc0f-4803-9e84-eeebdd21f55f",
   "metadata": {},
   "source": [
    "#### Summary:\n",
    "Performed a comprehensive analysis of pizza sales data using Python and Pandas to uncover revenue trends, customer preferences, and category-wise performance. Used data transformation, aggregation, and ranking techniques to derive actionable business insights, and visualized results using Seaborn.\n",
    "\n",
    "#### Key Highlights:\n",
    "\n",
    "Merged multiple datasets (order_details, pizzas, pizza_types) to compute revenue per order.\n",
    "\n",
    "Calculated daily revenue and cumulative revenue over time using groupby() and cumsum().\n",
    "\n",
    "Identified the top 3 most revenue-generating pizza types within each category using groupby() and rank().\n",
    "\n",
    "Created bar plots using Seaborn to visualize pizza performance across categories.\n",
    "\n",
    "Used clean, modular Python code suitable for dashboards or business reporting.\n",
    "\n",
    "#### Skills Used:\n",
    "Python, Pandas, Data Wrangling, Data Aggregation, Window-like operations, Data Visualization\n",
    "\n"
   ]
  }
 ],
 "metadata": {
  "kernelspec": {
   "display_name": "Python [conda env:base] *",
   "language": "python",
   "name": "conda-base-py"
  },
  "language_info": {
   "codemirror_mode": {
    "name": "ipython",
    "version": 3
   },
   "file_extension": ".py",
   "mimetype": "text/x-python",
   "name": "python",
   "nbconvert_exporter": "python",
   "pygments_lexer": "ipython3",
   "version": "3.12.7"
  }
 },
 "nbformat": 4,
 "nbformat_minor": 5
}
